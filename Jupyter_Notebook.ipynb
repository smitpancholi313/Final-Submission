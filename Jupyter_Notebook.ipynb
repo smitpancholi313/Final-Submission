{
 "cells": [
  {
   "cell_type": "markdown",
   "metadata": {
    "tags": []
   },
   "source": [
    "# My Jupyter Notebook on IBM Watson Studio"
   ]
  },
  {
   "cell_type": "markdown",
   "metadata": {},
   "source": [
    "**Smit pancholi**  \n",
    "Current occupation : Student"
   ]
  },
  {
   "cell_type": "markdown",
   "metadata": {},
   "source": [
    "*i am interested in data science because i love to gather new data and analysis it and then getting the best model fit out of it. Moreover, i love to solve problems of others as well.*"
   ]
  },
  {
   "cell_type": "markdown",
   "metadata": {},
   "source": [
    "### The following code tests the arithmetic operation "
   ]
  },
  {
   "cell_type": "code",
   "execution_count": 4,
   "metadata": {},
   "outputs": [
    {
     "data": {
      "text/plain": [
       "2"
      ]
     },
     "execution_count": 4,
     "metadata": {},
     "output_type": "execute_result"
    }
   ],
   "source": [
    "1 + 1"
   ]
  },
  {
   "cell_type": "markdown",
   "metadata": {},
   "source": [
    "- hello\n",
    "- this is a \n",
    "- bulleted list\n",
    "\n",
    "|  X |  Y | Col Z |\n",
    "| ------ | ------ | ------ |\n",
    "| Row A | Row B | Row C | \n",
    "\n",
    "<strike> This is a strike text </strike>\n",
    "\n",
    "<a href= \"https://www.ibm.com/cloud/computing\"> IBM Cloud - Cloud Computing Provider</a>"
   ]
  },
  {
   "cell_type": "code",
   "execution_count": null,
   "metadata": {},
   "outputs": [],
   "source": []
  }
 ],
 "metadata": {
  "kernelspec": {
   "display_name": "Python",
   "language": "python",
   "name": "conda-env-python-py"
  },
  "language_info": {
   "codemirror_mode": {
    "name": "ipython",
    "version": 3
   },
   "file_extension": ".py",
   "mimetype": "text/x-python",
   "name": "python",
   "nbconvert_exporter": "python",
   "pygments_lexer": "ipython3",
   "version": "3.7.12"
  },
  "toc-autonumbering": false,
  "toc-showmarkdowntxt": true
 },
 "nbformat": 4,
 "nbformat_minor": 4
}
